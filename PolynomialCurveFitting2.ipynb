{
 "cells": [
  {
   "cell_type": "markdown",
   "metadata": {},
   "source": [
    "## This is an example of a polynomial curve fitting model \n",
    "\n",
    "Fitting the exponential decay model: 𝐻(𝑡)=𝐻(0)𝑒−𝜆𝑡\n",
    "\n",
    "Reference: A. Leike (2002). \"Demonstration of the Exponential Decay Law Using Beer Froth,\" European Journal of Physics, Vol. 23, #1, pp. 21-26\n",
    "#### Measuring the beer foam height and beer height for 3 brands of beers at various time points\n",
    "\n",
    "The three beers-\n",
    "1. Erdinger Weissbier (Beer 1)\n",
    "2. Augustinerbrau Munchen  (Beer 2)\n",
    "3. Budweiser foam height (Beer 3)\n",
    "\n",
    "Columns-\n",
    "\n",
    "* Time from pour (sec) 4-8\n",
    "* Beer 1 foam height (cm) 10-16\n",
    "* Beer 2 foam height (cm) 18-24\n",
    "* Beer 3 (cm) 26-32\n"
   ]
  },
  {
   "cell_type": "code",
   "execution_count": 51,
   "metadata": {},
   "outputs": [],
   "source": [
    "import pandas as pd\n",
    "import numpy as np\n",
    "\n"
   ]
  },
  {
   "cell_type": "code",
   "execution_count": 53,
   "metadata": {},
   "outputs": [
    {
     "data": {
      "text/plain": [
       "array([[  0. ,  17. ,  14. ,  14. ],\n",
       "       [ 15. ,  16.1,  11.8,  12.1],\n",
       "       [ 30. ,  14.9,  10.5,  10.9],\n",
       "       [ 45. ,  14. ,   9.3,  10. ],\n",
       "       [ 60. ,  13.2,   8.5,   9.3],\n",
       "       [ 75. ,  12.5,   7.7,   8.6],\n",
       "       [ 90. ,  11.9,   7.1,   8. ],\n",
       "       [105. ,  11.2,   6.5,   7.5],\n",
       "       [120. ,  10.7,   6. ,   7. ],\n",
       "       [150. ,   9.7,   5.3,   6.2],\n",
       "       [180. ,   8.9,   4.4,   5.5],\n",
       "       [210. ,   8.3,   3.5,   4.5],\n",
       "       [240. ,   7.5,   2.9,   3.5],\n",
       "       [300. ,   6.3,   1.3,   2. ],\n",
       "       [360. ,   5.2,   0.7,   0.9]])"
      ]
     },
     "execution_count": 53,
     "metadata": {},
     "output_type": "execute_result"
    }
   ],
   "source": [
    "url = \"http://users.stat.ufl.edu/~winner/data/beer_foam2.dat\"\n",
    "columns = ['Time(s)', 'Beer1', 'Beer2', 'Beer3']\n",
    "beerdata = np.loadtxt(url)\n",
    "beerdata"
   ]
  },
  {
   "cell_type": "code",
   "execution_count": 55,
   "metadata": {},
   "outputs": [],
   "source": [
    "def fitdata(x,t, M):\n",
    "    '''fitdata(x,t, M) will fit a polynomial of order M to the data (x,t)'''\n",
    "    #making the big X matrix with all the values of x see the Explanation\n",
    "    X = np.array([x**m for m in range(M+1)]).T\n",
    "    # ** is for exponentiation\n",
    "    # .T is for transpose\n",
    "    #defining the weights (see Explanation)\n",
    "    w = np.linalg.inv(X.T@X)@X.T@t  \n",
    "    #the @ (overload operator) is used for matrix multiplication #matmul can also be used \n",
    "    #numpy.linalg.inv(a)[source] \n",
    "    #computing the multiplicative inverse of a matrix \n",
    "    return w \n",
    "\n"
   ]
  },
  {
   "cell_type": "code",
   "execution_count": 57,
   "metadata": {},
   "outputs": [
    {
     "name": "stdout",
     "output_type": "stream",
     "text": [
      "[ 1.39973990e+01 -1.82312421e-01  3.12156666e-03 -4.21840887e-05\n",
      "  3.02586205e-07 -5.71862804e-10 -5.81161038e-12  4.05138442e-14\n",
      " -9.89564906e-17  8.67513101e-20]\n"
     ]
    },
    {
     "data": {
      "image/png": "[encoded data removed]",
      "text/plain": [
       "<Figure size 432x288 with 1 Axes>"
      ]
     },
     "metadata": {
      "needs_background": "light"
     },
     "output_type": "display_data"
    }
   ],
   "source": [
    "import matplotlib.pyplot as plt\n",
    "%matplotlib inline\n",
    "\n",
    "#plotting the data points\n",
    "\n",
    "plt.scatter(beerdata[:,0], beerdata[:,1], color = \"red\") #1st and 2nd column\n",
    "plt.scatter(beerdata[:,0], beerdata[:, 2], color = \"blue\") #1st and 3rd column\n",
    "plt.scatter(beerdata[:,0], beerdata[:, 3], color = \"orange\") #1st and 4th column\n",
    "\n",
    "# now fitting the data using polynomial curve fitting model\n",
    "#we have to give values of x,t, M,w \n",
    "x = beerdata[:,0]\n",
    "t = beerdata[:,2]\n",
    "w = fitdata(x,t,M=9)\n",
    "print(w)"
   ]
  },
  {
   "cell_type": "code",
   "execution_count": 58,
   "metadata": {},
   "outputs": [],
   "source": [
    "\n",
    "#defining a function to plot the data and the underlying true function\n",
    "\n",
    "def plotData(x1,t1, x2,t2, x3 = None, t3 = None, legend = []):\n",
    "  #plotting everything now\n",
    "    #plotting the training data\n",
    "    p1 = plt.plot(x1, t1, 'bo')\n",
    "    #plotting the true data\n",
    "    p2 = plt.plot(x2, t2, 'g') \n",
    "    if (x3 is not None):\n",
    "       p3 = plt.plot(x3, t3, 'r')\n",
    "    \n",
    "    #Adding the title, legend and axes \n",
    "    #xlabel\n",
    "    plt.xlabel('training values (x)')\n",
    "    plt.ylabel('true values (t)')    \n",
    "    \n",
    "    if(x3 is None):\n",
    "        plt.legend((p1[0], p2[0]), legend)\n",
    "    else:\n",
    "        plt.legend((p1[0], p2[0], p3[0]),legend)"
   ]
  },
  {
   "cell_type": "code",
   "execution_count": 60,
   "metadata": {},
   "outputs": [
    {
     "name": "stderr",
     "output_type": "stream",
     "text": [
      "C:\\Users\\shrey\\anaconda3\\lib\\site-packages\\IPython\\core\\pylabtools.py:132: UserWarning: Creating legend with loc=\"best\" can be slow with large amounts of data.\n",
      "  fig.canvas.print_figure(bytes_io, **kw)\n"
     ]
    },
    {
     "data": {
      "image/png": "[encoded data removed]",
      "text/plain": [
       "<Figure size 432x288 with 1 Axes>"
      ]
     },
     "metadata": {
      "needs_background": "light"
     },
     "output_type": "display_data"
    }
   ],
   "source": [
    "#using the weights \n",
    "xrange = np.arange(beerdata[0,0], beerdata[beerdata.shape[0]-1,0], 0.001) #getting equally spaced points \n",
    "#numpy.arange([start], stop, [step], dtype=None)\n",
    "# [start] = beerdata[0,0]\n",
    "#stop = beerdata[beerdata.shape[0]-1]\n",
    "#step =0.001\n",
    "\n",
    "X = np.array([xrange**m for m in range(w.size)]).T\n",
    "estimatedy = X@w #matrix multiplication\n",
    "#estimatedy is the computed predicted value\n",
    "\n",
    "plotData(x,t, xrange, estimatedy, legend = ['Training Data', 'Estimated \\nPolynomial'])\n"
   ]
  },
  {
   "cell_type": "code",
   "execution_count": 62,
   "metadata": {},
   "outputs": [
    {
     "name": "stdout",
     "output_type": "stream",
     "text": [
      "[1.00e+00 2.00e+02 4.00e+04 8.00e+06 1.60e+09 3.20e+11 6.40e+13 1.28e+16\n",
      " 2.56e+18 5.12e+20]\n",
      "3.7888974981108845\n"
     ]
    }
   ],
   "source": [
    "#predicting the foam height a t = (enter value of your choice)\n",
    "# t should be defined as float so it can take decimal values \n",
    "\n",
    "predict_t = np.float(200)\n",
    "\n",
    "test_x = np.array([predict_t **m for m in range (w[:, None]. size)]).T\n",
    "print(test_x)\n",
    "predicted_height = test_x@w\n",
    "print(predicted_height)"
   ]
  },
  {
   "cell_type": "code",
   "execution_count": null,
   "metadata": {},
   "outputs": [],
   "source": []
  }
 ],
 "metadata": {
  "kernelspec": {
   "display_name": "Python 3",
   "language": "python",
   "name": "python3"
  },
  "language_info": {
   "codemirror_mode": {
    "name": "ipython",
    "version": 3
   },
   "file_extension": ".py",
   "mimetype": "text/x-python",
   "name": "python",
   "nbconvert_exporter": "python",
   "pygments_lexer": "ipython3",
   "version": "3.7.6"
  }
 },
 "nbformat": 4,
 "nbformat_minor": 4
}
